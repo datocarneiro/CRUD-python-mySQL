{
 "cells": [
  {
   "cell_type": "markdown",
   "metadata": {},
   "source": [
    "# ***CRUD python + mySQL***\n",
    "\n",
    "* Create\n",
    "* Read\n",
    "* Update\n",
    "* Delete"
   ]
  },
  {
   "cell_type": "markdown",
   "metadata": {},
   "source": [
    "Video intalação mySQL\n",
    "https://www.youtube.com/watch?v=UJ3ljw5uuEM&t=0s "
   ]
  },
  {
   "cell_type": "markdown",
   "metadata": {},
   "source": [
    "# ***Comando de CRUD***\n",
    "Essa tabela inclui alguns dos comandos SQL mais básicos, mas há muitos outros comandos e cláusulas disponíveis para realizar operações mais avançadas em bancos de dados relacionais.\n",
    "`exemplo`\n",
    "\n",
    "```sql\n",
    "-- Create (INSERT): Adicionando um novo produto\n",
    "INSERT INTO produtos (id, nome, preco, quantidade, data_criacao)\n",
    "VALUES (1, 'Produto A', 10.99, 100, '2024-04-27');\n",
    "\n",
    "-- Read (SELECT): Recuperando todos os produtos\n",
    "SELECT * FROM produtos;\n",
    "\n",
    "-- Update (UPDATE): Atualizando o preço do Produto A\n",
    "UPDATE produtos\n",
    "SET preco = 12.99\n",
    "WHERE id = 1;\n",
    "\n",
    "-- Delete (DELETE): Excluindo o Produto A\n",
    "DELETE FROM produtos\n",
    "WHERE id = 1;\n",
    "```\n",
    "\n",
    "\n",
    "| Comando SQL          | Descrição                                          |\n",
    "|----------------------|----------------------------------------------------|\n",
    "| SELECT * FROM tabela | Seleciona todas as colunas da tabela especificada  |\n",
    "| SELECT col1, col2    | Seleciona colunas específicas da tabela           |\n",
    "| FROM tabela          | Especifica a tabela da qual os dados serão obtidos|\n",
    "| WHERE condição       | Filtra as linhas que satisfazem a condição         |\n",
    "| INSERT INTO tabela   | Insere uma nova linha na tabela especificada       |\n",
    "| VALUES (val1, val2) | Especifica os valores a serem inseridos            |\n",
    "| UPDATE tabela        | Atualiza os dados na tabela especificada           |\n",
    "| SET col = valor      | Define os valores a serem atualizados              |\n",
    "| DELETE FROM tabela   | Exclui linhas da tabela especificada               |\n",
    "| WHERE condição       | Especifica as linhas a serem excluídas             |\n"
   ]
  },
  {
   "cell_type": "markdown",
   "metadata": {},
   "source": [
    "# ***comando criação tabela***\n",
    "\n",
    "Essa tabela lista os comandos SQL básicos para criar uma nova tabela em um banco de dados relacional, incluindo a definição de colunas, chaves primárias e \n",
    "estrangeiras, restrições de nulos e únicos, valores padrão e verificações de condições.\n",
    "```sql\n",
    "    CREATE TABLE produtos (\n",
    "    id INT PRIMARY KEY,\n",
    "    nome VARCHAR(100) NOT NULL,\n",
    "    preco DECIMAL(10,2) NOT NULL,\n",
    "    quantidade INT DEFAULT 0,\n",
    "    data_criacao DATE DEFAULT CURRENT_DATE\n",
    "    );\n",
    "```\n",
    "\n",
    "\n",
    "| Comando SQL                                 | Descrição                                              |\n",
    "|---------------------------------------------|--------------------------------------------------------|\n",
    "| CREATE TABLE nome_tabela                    | Cria uma nova tabela com o nome especificado           |\n",
    "| ( coluna1 tipo1, coluna2 tipo2, ...)       | Define as colunas da tabela e seus tipos de dados     |\n",
    "| PRIMARY KEY (coluna)                        | Define uma chave primária para a tabela                |\n",
    "| FOREIGN KEY (coluna) REFERENCES outra_tabela(coluna) | Define uma chave estrangeira para a tabela       |\n",
    "| NOT NULL                                    | Indica que a coluna não pode conter valores nulos      |\n",
    "| UNIQUE                                      | Garante que todos os valores em uma coluna sejam únicos|\n",
    "| DEFAULT valor_padrao                        | Especifica um valor padrão para uma coluna             |\n",
    "| CHECK (condição)                            | Impõe uma condição para os valores em uma coluna       |\n",
    "\n",
    "\n",
    "\n",
    "\n",
    "\n",
    "\n"
   ]
  },
  {
   "cell_type": "markdown",
   "metadata": {},
   "source": []
  }
 ],
 "metadata": {
  "language_info": {
   "name": "python"
  }
 },
 "nbformat": 4,
 "nbformat_minor": 2
}
